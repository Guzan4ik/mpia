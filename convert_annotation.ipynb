{
 "cells": [
  {
   "cell_type": "markdown",
   "id": "4afd321d-5321-484e-acdc-d3525054ff8f",
   "metadata": {},
   "source": [
    "## Example of annotation creation in YOLOv8 format\n",
    "\n",
    "You need to set dataset directory, path to annotation folder, and path to image folder.\n",
    "\n",
    "The target classes that are selected for format convertation can be found in file \"metadata/metadata.py\". For instance, we can set the following classes for Tomato detection dataset:\n",
    "\n",
    "- \"leaf\": 2 \n",
    "- \"fruit\": 3"
   ]
  },
  {
   "cell_type": "code",
   "execution_count": 1,
   "id": "fadf3d3e-0851-4d11-aa63-5750b68a2e33",
   "metadata": {},
   "outputs": [],
   "source": [
    "dataset_dir = './datasets/Tomato detection/Tomato detection/' \n",
    "ann_folder = 'ann'\n",
    "img_folder = 'img'\n",
    "\n",
    "obj_classes = [2, 3] # 2 -- leaf, 3 -- fruit"
   ]
  },
  {
   "cell_type": "markdown",
   "id": "4475d599-ef49-4525-8d66-a5472d7215ab",
   "metadata": {},
   "source": [
    "Then, we need to read the file 'part_statistics.csv'. It includes information of object location and class."
   ]
  },
  {
   "cell_type": "code",
   "execution_count": 2,
   "id": "5f747449-7304-4004-8273-3c6b459eb19f",
   "metadata": {},
   "outputs": [],
   "source": [
    "import pandas as pd\n",
    "\n",
    "dataset_statistics = pd.read_csv(dataset_dir + 'part_statistics.csv') "
   ]
  },
  {
   "cell_type": "markdown",
   "id": "6fd48fbb-34fd-4497-b904-0f91344d357b",
   "metadata": {},
   "source": [
    "To train YOLOv8 model dataset should be presented in the following format where each line in the file corresponds to object class and location:\n",
    "\n",
    "{object_class_id} {x_center} {y_center} {width} {height}"
   ]
  },
  {
   "cell_type": "code",
   "execution_count": 6,
   "id": "65891de4-64ed-4282-bb99-c21faccfee19",
   "metadata": {},
   "outputs": [],
   "source": [
    "def convert_annotation_yolov8(dataset_statistics):\n",
    "    # compute statistics with object location in yolov8 format for object detection\n",
    "    \n",
    "    file_dict = {}\n",
    "    for row in dataset_statistics.iterrows():\n",
    "        file_name = row[1][0].split('.')[0]\n",
    "        centroids_norm_x = row[1][13]\n",
    "        centroids_norm_y = row[1][14]\n",
    "        width_norm = row[1][28]\n",
    "        height_norm = row[1][27]\n",
    "        class_type = row[1][10]\n",
    "\n",
    "        obj_class = class_type\n",
    "        x_center = centroids_norm_x\n",
    "        y_center = centroids_norm_y\n",
    "        width = width_norm\n",
    "        height = height_norm\n",
    "\n",
    "        if obj_class in obj_classes:   \n",
    "            if file_name not in file_dict.keys():\n",
    "                file_dict[file_name] = [' '.join(str(x) for x in [obj_class, x_center, y_center, width, height])] # obj_class --> 0\n",
    "            else:\n",
    "                file_dict[file_name] += [' '.join(str(x) for x in [obj_class, x_center, y_center, width, height])]\n",
    "                \n",
    "    return file_dict"
   ]
  },
  {
   "cell_type": "code",
   "execution_count": 7,
   "id": "f6468ecd-adc4-4b5b-b199-487c54b9a4f0",
   "metadata": {},
   "outputs": [],
   "source": [
    "file_dict = convert_annotation_yolov8(dataset_statistics)"
   ]
  },
  {
   "cell_type": "code",
   "execution_count": 8,
   "id": "7f101c96-f533-4639-9527-8af20cf02647",
   "metadata": {},
   "outputs": [
    {
     "data": {
      "text/plain": [
       "dict_keys(['tomato0', 'tomato102', 'tomato108', 'tomato116', 'tomato130', 'tomato139', 'tomato142', 'tomato161', 'tomato170', 'tomato190', 'tomato199', 'tomato212', 'tomato221', 'tomato23', 'tomato233', 'tomato238', 'tomato240', 'tomato241', 'tomato246', 'tomato268', 'tomato272', 'tomato28', 'tomato292', 'tomato301', 'tomato303', 'tomato31', 'tomato317', 'tomato321', 'tomato330', 'tomato333', 'tomato357', 'tomato360', 'tomato362', 'tomato375', 'tomato388', 'tomato391', 'tomato414', 'tomato415', 'tomato450', 'tomato453', 'tomato491', 'tomato50', 'tomato501', 'tomato503', 'tomato513', 'tomato521', 'tomato525', 'tomato528', 'tomato556', 'tomato558', 'tomato560', 'tomato596', 'tomato601', 'tomato613', 'tomato615', 'tomato616', 'tomato620', 'tomato630', 'tomato64', 'tomato68', 'tomato650', 'tomato667', 'tomato681', 'tomato687', 'tomato706', 'tomato728', 'tomato738', 'tomato77', 'tomato781', 'tomato793', 'tomato804', 'tomato819', 'tomato829', 'tomato83', 'tomato830', 'tomato831', 'tomato838', 'tomato860', 'tomato884', 'tomato93'])"
      ]
     },
     "execution_count": 8,
     "metadata": {},
     "output_type": "execute_result"
    }
   ],
   "source": [
    "# check files that are preprocessed to create annotation\n",
    "file_dict.keys()"
   ]
  },
  {
   "cell_type": "markdown",
   "id": "ebd7c52d-a4b3-4cea-b308-ef91fded1830",
   "metadata": {},
   "source": [
    "For each image file, we create separate annotation file:"
   ]
  },
  {
   "cell_type": "code",
   "execution_count": 9,
   "id": "77b0c9ed-a15b-4127-a89b-e0a7e5726d5a",
   "metadata": {},
   "outputs": [],
   "source": [
    "for key in file_dict.keys():\n",
    "    with open(dataset_dir + ann_folder + '/' + key + '.txt', 'w') as f:\n",
    "        for line in file_dict[key]:\n",
    "            f.write(f\"{line}\\n\")"
   ]
  },
  {
   "cell_type": "code",
   "execution_count": null,
   "id": "c645cc18-fb60-454d-bf49-a1d1c670f709",
   "metadata": {},
   "outputs": [],
   "source": []
  }
 ],
 "metadata": {
  "kernelspec": {
   "display_name": "py39",
   "language": "python",
   "name": "py39"
  },
  "language_info": {
   "codemirror_mode": {
    "name": "ipython",
    "version": 3
   },
   "file_extension": ".py",
   "mimetype": "text/x-python",
   "name": "python",
   "nbconvert_exporter": "python",
   "pygments_lexer": "ipython3",
   "version": "3.9.18"
  }
 },
 "nbformat": 4,
 "nbformat_minor": 5
}
